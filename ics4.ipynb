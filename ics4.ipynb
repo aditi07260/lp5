{
 "cells": [
  {
   "cell_type": "code",
   "execution_count": 4,
   "id": "9857115c",
   "metadata": {},
   "outputs": [
    {
     "name": "stdout",
     "output_type": "stream",
     "text": [
      "Requirement already satisfied: pycryptodome in c:\\users\\91951\\appdata\\local\\programs\\python\\python311\\lib\\site-packages (3.22.0)\n",
      "Note: you may need to restart the kernel to use updated packages.\n"
     ]
    },
    {
     "name": "stderr",
     "output_type": "stream",
     "text": [
      "\n",
      "[notice] A new release of pip is available: 24.0 -> 25.1.1\n",
      "[notice] To update, run: python.exe -m pip install --upgrade pip\n"
     ]
    }
   ],
   "source": [
    "pip install pycryptodome\n"
   ]
  },
  {
   "cell_type": "code",
   "execution_count": 6,
   "id": "46802c8d",
   "metadata": {},
   "outputs": [
    {
     "name": "stdout",
     "output_type": "stream",
     "text": [
      "Collecting sympy\n",
      "  Using cached sympy-1.14.0-py3-none-any.whl.metadata (12 kB)\n",
      "Collecting mpmath<1.4,>=1.1.0 (from sympy)\n",
      "  Using cached mpmath-1.3.0-py3-none-any.whl.metadata (8.6 kB)\n",
      "Using cached sympy-1.14.0-py3-none-any.whl (6.3 MB)\n",
      "Using cached mpmath-1.3.0-py3-none-any.whl (536 kB)\n",
      "Installing collected packages: mpmath, sympy\n",
      "Successfully installed mpmath-1.3.0 sympy-1.14.0\n",
      "Note: you may need to restart the kernel to use updated packages.\n"
     ]
    },
    {
     "name": "stderr",
     "output_type": "stream",
     "text": [
      "\n",
      "[notice] A new release of pip is available: 24.0 -> 25.1.1\n",
      "[notice] To update, run: python.exe -m pip install --upgrade pip\n"
     ]
    }
   ],
   "source": [
    "pip install sympy"
   ]
  },
  {
   "cell_type": "code",
   "execution_count": 7,
   "id": "731f2024",
   "metadata": {},
   "outputs": [
    {
     "name": "stdout",
     "output_type": "stream",
     "text": [
      "Public Key (e, n): (12076476047420535457402669552893099786750433340924280915570580714113609486446510660071106079794221684498620824675035667041045986487096244518900299872798993985809091728386203806251963159628853741222168400478052535409901849598329479535109592920515894867099917210146965888272258349470260430062796064563086561763, 61140565325080179936223930616331535409585502582002627001515371228318410375516057168697648504564470343218319262526246216843305904307128843275263957683723757556349229753556830294149489651407820867975446422403024070817062328779969468029939306819017782875019903729831426349820955995980098197403047557927842042623)\n",
      "Private Key (d, n): (38505234709214506584087524424555897666140421716007224751204689686349356108579648091716110310429502356757984641782982395170479078808123070256370318735776936578726584983497796057535687692942524049983527932076815450585677981338991354092759222656979044236826766739108293690739506835979830275303948623656886028627, 61140565325080179936223930616331535409585502582002627001515371228318410375516057168697648504564470343218319262526246216843305904307128843275263957683723757556349229753556830294149489651407820867975446422403024070817062328779969468029939306819017782875019903729831426349820955995980098197403047557927842042623)\n",
      "\n",
      "Original Message: Hello ADITI!\n",
      "\n",
      "Ciphertext: 28200077501406100764440813902507591501599924571899725222950877502448920141454120494963123771294103018252239358865276156405486660572687411849973114579881513486629848451887975301725922435664071625112422148596112299308222243042718504972892509191692794487340792204018833640508536929190031347440296743665917847469\n",
      "\n",
      "Decrypted Message: Hello ADITI!\n"
     ]
    }
   ],
   "source": [
    "# Import necessary libraries\n",
    "from sympy import randprime, gcd\n",
    "from Crypto.Util.number import inverse\n",
    "import random\n",
    "\n",
    "# Function to generate public and private keys\n",
    "def generate_keys(bit_length=512):\n",
    "    # Generate two distinct prime numbers\n",
    "    p = randprime(2**(bit_length-1), 2**bit_length)\n",
    "    q = randprime(2**(bit_length-1), 2**bit_length)\n",
    "    while p == q:\n",
    "        q = randprime(2**(bit_length-1), 2**bit_length)\n",
    "\n",
    "    # Calculate n = p * q\n",
    "    n = p * q\n",
    "\n",
    "    # Calculate Euler's Totient function φ(n) = (p-1)*(q-1)\n",
    "    phi_n = (p - 1) * (q - 1)\n",
    "\n",
    "    # Choose e such that 1 < e < φ(n) and gcd(e, φ(n)) = 1\n",
    "    e = random.randrange(2, phi_n)\n",
    "    while gcd(e, phi_n) != 1:\n",
    "        e = random.randrange(2, phi_n)\n",
    "\n",
    "    # Calculate d (modular inverse of e modulo φ(n))\n",
    "    d = inverse(e, phi_n)\n",
    "\n",
    "    # Return public and private keys\n",
    "    return ((e, n), (d, n))\n",
    "\n",
    "# Function to encrypt a plaintext message\n",
    "def encrypt(plaintext, public_key):\n",
    "    e, n = public_key\n",
    "    # Convert plaintext to integer\n",
    "    plaintext_int = int.from_bytes(plaintext.encode(), byteorder='big')\n",
    "    # Encrypt using modular exponentiation\n",
    "    ciphertext = pow(plaintext_int, e, n)\n",
    "    return ciphertext\n",
    "\n",
    "# Function to decrypt a ciphertext message\n",
    "def decrypt(ciphertext, private_key):\n",
    "    d, n = private_key\n",
    "    # Decrypt using modular exponentiation\n",
    "    plaintext_int = pow(ciphertext, d, n)\n",
    "    # Convert integer back to plaintext\n",
    "    plaintext = plaintext_int.to_bytes((plaintext_int.bit_length() + 7) // 8, byteorder='big').decode()\n",
    "    return plaintext\n",
    "\n",
    "# Main function to demonstrate RSA\n",
    "def main():\n",
    "    # Generate public and private keys\n",
    "    public_key, private_key = generate_keys()\n",
    "\n",
    "    print(\"Public Key (e, n):\", public_key)\n",
    "    print(\"Private Key (d, n):\", private_key)\n",
    "\n",
    "    # Message to encrypt\n",
    "    message = \"Hello ADITI!\"\n",
    "    print(\"\\nOriginal Message:\", message)\n",
    "\n",
    "    # Encrypt the message\n",
    "    ciphertext = encrypt(message, public_key)\n",
    "    print(\"\\nCiphertext:\", ciphertext)\n",
    "\n",
    "    # Decrypt the message\n",
    "    decrypted_message = decrypt(ciphertext, private_key)\n",
    "    print(\"\\nDecrypted Message:\", decrypted_message)\n",
    "\n",
    "# Run the main function\n",
    "if __name__ == \"__main__\":\n",
    "    main()\n"
   ]
  }
 ],
 "metadata": {
  "kernelspec": {
   "display_name": "Python 3",
   "language": "python",
   "name": "python3"
  },
  "language_info": {
   "codemirror_mode": {
    "name": "ipython",
    "version": 3
   },
   "file_extension": ".py",
   "mimetype": "text/x-python",
   "name": "python",
   "nbconvert_exporter": "python",
   "pygments_lexer": "ipython3",
   "version": "3.11.9"
  }
 },
 "nbformat": 4,
 "nbformat_minor": 5
}
